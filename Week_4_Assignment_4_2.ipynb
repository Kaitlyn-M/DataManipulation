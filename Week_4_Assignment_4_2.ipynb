{
  "nbformat": 4,
  "nbformat_minor": 0,
  "metadata": {
    "colab": {
      "provenance": []
    },
    "kernelspec": {
      "name": "python3",
      "display_name": "Python 3"
    },
    "language_info": {
      "name": "python"
    }
  },
  "cells": [
    {
      "cell_type": "markdown",
      "source": [
        "Download the dataset and load it as a pandas dataframe and perform the following:"
      ],
      "metadata": {
        "id": "Tx6E6w-M3_kt"
      }
    },
    {
      "cell_type": "code",
      "source": [
        "# Import pandas as pd for data science\n",
        "import pandas as pd\n",
        "# Fast food dataset\n",
        "df = pd.read_csv(\"/content/Fast-Food Chains in USA.csv\")"
      ],
      "metadata": {
        "id": "G6LAXA63DiDD"
      },
      "execution_count": 4,
      "outputs": []
    },
    {
      "cell_type": "markdown",
      "source": [
        "1. Using pandas to insert a new record into the dataset with the following details:\n",
        "\n",
        "Fast-Food Chain: \"Subway\",\n",
        "\n",
        "Systemwide Sales: $1000 million,\n",
        "\n",
        "Average Sales per Unit: $400 thousand,\n",
        "\n",
        "Franchised Stores: 2000,\n",
        "\n",
        "Company Stores: 500,\n",
        "\n",
        "2021 Total Units: 2500,\n",
        "\n",
        "Total Change in Units from 2020: 50"
      ],
      "metadata": {
        "id": "TaStC4Ws4H8f"
      }
    },
    {
      "cell_type": "code",
      "execution_count": 5,
      "metadata": {
        "id": "Jrdv4urGt0tm"
      },
      "outputs": [],
      "source": [
        "# At index 41, replace old Subway record with new values\n",
        "df.iloc[41] = ['Subway', 1000, 400, 2000, 500, 2500, 50]"
      ]
    },
    {
      "cell_type": "markdown",
      "source": [
        "2. Update the systemwide sales for the fast food chain with the name \"McDonald's\" to $40000 million."
      ],
      "metadata": {
        "id": "Lw1U3VKb4wVQ"
      }
    },
    {
      "cell_type": "code",
      "source": [
        "# At McDonald's row and systemwide sales column, update value to 40000\n",
        "df.loc[df['Fast-Food Chains'] == 'McDonald’s', 'U.S. Systemwide Sales (Millions - U.S Dollars)'] = 40000"
      ],
      "metadata": {
        "id": "SXfEQwAl5oJF"
      },
      "execution_count": 6,
      "outputs": []
    },
    {
      "cell_type": "markdown",
      "source": [
        "3. Using pandas to calculate the average systemwide sales for each category of fast food chains, grouped by category."
      ],
      "metadata": {
        "id": "WcseqKwo43Ry"
      }
    },
    {
      "cell_type": "code",
      "source": [
        "# Ignored"
      ],
      "metadata": {
        "id": "Fw7JweTD5nWU"
      },
      "execution_count": null,
      "outputs": []
    },
    {
      "cell_type": "markdown",
      "source": [
        "4.Using pandas retrieve the top 10 fast food chains with the highest average sales per unit, ordered by average sales per unit in descending order."
      ],
      "metadata": {
        "id": "GOAPsrg04_ZU"
      }
    },
    {
      "cell_type": "code",
      "source": [
        "# In descending order, list top 10 fast food chains with highest average sales per unit\n",
        "highest_avg = df.sort_values(by='Average Sales per Unit (Thousands - U.S Dollars)', ascending=False).head(10)\n",
        "# List names and average sales per unit\n",
        "highest_avg[['Fast-Food Chains', 'Average Sales per Unit (Thousands - U.S Dollars)']]"
      ],
      "metadata": {
        "id": "zfXV759u5mqC",
        "colab": {
          "base_uri": "https://localhost:8080/",
          "height": 363
        },
        "outputId": "46229ff6-792f-4845-c347-db6bececfbe4"
      },
      "execution_count": 7,
      "outputs": [
        {
          "output_type": "execute_result",
          "data": {
            "text/plain": [
              "   Fast-Food Chains  Average Sales per Unit (Thousands - U.S Dollars)\n",
              "6       Chick-fil-A                                              6100\n",
              "37   Raising Cane’s                                              4893\n",
              "24     Krispy Kreme                                              4000\n",
              "38      Shake Shack                                              3679\n",
              "46      Whataburger                                              3640\n",
              "28       McDonald’s                                              3420\n",
              "19  In-N-Out Burger                                              3200\n",
              "16        Five Guys                                              3172\n",
              "9          Culver’s                                              3099\n",
              "31     Panera Bread                                              2700"
            ],
            "text/html": [
              "\n",
              "  <div id=\"df-856c17b6-42f8-429c-8c6e-25065379de97\" class=\"colab-df-container\">\n",
              "    <div>\n",
              "<style scoped>\n",
              "    .dataframe tbody tr th:only-of-type {\n",
              "        vertical-align: middle;\n",
              "    }\n",
              "\n",
              "    .dataframe tbody tr th {\n",
              "        vertical-align: top;\n",
              "    }\n",
              "\n",
              "    .dataframe thead th {\n",
              "        text-align: right;\n",
              "    }\n",
              "</style>\n",
              "<table border=\"1\" class=\"dataframe\">\n",
              "  <thead>\n",
              "    <tr style=\"text-align: right;\">\n",
              "      <th></th>\n",
              "      <th>Fast-Food Chains</th>\n",
              "      <th>Average Sales per Unit (Thousands - U.S Dollars)</th>\n",
              "    </tr>\n",
              "  </thead>\n",
              "  <tbody>\n",
              "    <tr>\n",
              "      <th>6</th>\n",
              "      <td>Chick-fil-A</td>\n",
              "      <td>6100</td>\n",
              "    </tr>\n",
              "    <tr>\n",
              "      <th>37</th>\n",
              "      <td>Raising Cane’s</td>\n",
              "      <td>4893</td>\n",
              "    </tr>\n",
              "    <tr>\n",
              "      <th>24</th>\n",
              "      <td>Krispy Kreme</td>\n",
              "      <td>4000</td>\n",
              "    </tr>\n",
              "    <tr>\n",
              "      <th>38</th>\n",
              "      <td>Shake Shack</td>\n",
              "      <td>3679</td>\n",
              "    </tr>\n",
              "    <tr>\n",
              "      <th>46</th>\n",
              "      <td>Whataburger</td>\n",
              "      <td>3640</td>\n",
              "    </tr>\n",
              "    <tr>\n",
              "      <th>28</th>\n",
              "      <td>McDonald’s</td>\n",
              "      <td>3420</td>\n",
              "    </tr>\n",
              "    <tr>\n",
              "      <th>19</th>\n",
              "      <td>In-N-Out Burger</td>\n",
              "      <td>3200</td>\n",
              "    </tr>\n",
              "    <tr>\n",
              "      <th>16</th>\n",
              "      <td>Five Guys</td>\n",
              "      <td>3172</td>\n",
              "    </tr>\n",
              "    <tr>\n",
              "      <th>9</th>\n",
              "      <td>Culver’s</td>\n",
              "      <td>3099</td>\n",
              "    </tr>\n",
              "    <tr>\n",
              "      <th>31</th>\n",
              "      <td>Panera Bread</td>\n",
              "      <td>2700</td>\n",
              "    </tr>\n",
              "  </tbody>\n",
              "</table>\n",
              "</div>\n",
              "    <div class=\"colab-df-buttons\">\n",
              "\n",
              "  <div class=\"colab-df-container\">\n",
              "    <button class=\"colab-df-convert\" onclick=\"convertToInteractive('df-856c17b6-42f8-429c-8c6e-25065379de97')\"\n",
              "            title=\"Convert this dataframe to an interactive table.\"\n",
              "            style=\"display:none;\">\n",
              "\n",
              "  <svg xmlns=\"http://www.w3.org/2000/svg\" height=\"24px\" viewBox=\"0 -960 960 960\">\n",
              "    <path d=\"M120-120v-720h720v720H120Zm60-500h600v-160H180v160Zm220 220h160v-160H400v160Zm0 220h160v-160H400v160ZM180-400h160v-160H180v160Zm440 0h160v-160H620v160ZM180-180h160v-160H180v160Zm440 0h160v-160H620v160Z\"/>\n",
              "  </svg>\n",
              "    </button>\n",
              "\n",
              "  <style>\n",
              "    .colab-df-container {\n",
              "      display:flex;\n",
              "      gap: 12px;\n",
              "    }\n",
              "\n",
              "    .colab-df-convert {\n",
              "      background-color: #E8F0FE;\n",
              "      border: none;\n",
              "      border-radius: 50%;\n",
              "      cursor: pointer;\n",
              "      display: none;\n",
              "      fill: #1967D2;\n",
              "      height: 32px;\n",
              "      padding: 0 0 0 0;\n",
              "      width: 32px;\n",
              "    }\n",
              "\n",
              "    .colab-df-convert:hover {\n",
              "      background-color: #E2EBFA;\n",
              "      box-shadow: 0px 1px 2px rgba(60, 64, 67, 0.3), 0px 1px 3px 1px rgba(60, 64, 67, 0.15);\n",
              "      fill: #174EA6;\n",
              "    }\n",
              "\n",
              "    .colab-df-buttons div {\n",
              "      margin-bottom: 4px;\n",
              "    }\n",
              "\n",
              "    [theme=dark] .colab-df-convert {\n",
              "      background-color: #3B4455;\n",
              "      fill: #D2E3FC;\n",
              "    }\n",
              "\n",
              "    [theme=dark] .colab-df-convert:hover {\n",
              "      background-color: #434B5C;\n",
              "      box-shadow: 0px 1px 3px 1px rgba(0, 0, 0, 0.15);\n",
              "      filter: drop-shadow(0px 1px 2px rgba(0, 0, 0, 0.3));\n",
              "      fill: #FFFFFF;\n",
              "    }\n",
              "  </style>\n",
              "\n",
              "    <script>\n",
              "      const buttonEl =\n",
              "        document.querySelector('#df-856c17b6-42f8-429c-8c6e-25065379de97 button.colab-df-convert');\n",
              "      buttonEl.style.display =\n",
              "        google.colab.kernel.accessAllowed ? 'block' : 'none';\n",
              "\n",
              "      async function convertToInteractive(key) {\n",
              "        const element = document.querySelector('#df-856c17b6-42f8-429c-8c6e-25065379de97');\n",
              "        const dataTable =\n",
              "          await google.colab.kernel.invokeFunction('convertToInteractive',\n",
              "                                                    [key], {});\n",
              "        if (!dataTable) return;\n",
              "\n",
              "        const docLinkHtml = 'Like what you see? Visit the ' +\n",
              "          '<a target=\"_blank\" href=https://colab.research.google.com/notebooks/data_table.ipynb>data table notebook</a>'\n",
              "          + ' to learn more about interactive tables.';\n",
              "        element.innerHTML = '';\n",
              "        dataTable['output_type'] = 'display_data';\n",
              "        await google.colab.output.renderOutput(dataTable, element);\n",
              "        const docLink = document.createElement('div');\n",
              "        docLink.innerHTML = docLinkHtml;\n",
              "        element.appendChild(docLink);\n",
              "      }\n",
              "    </script>\n",
              "  </div>\n",
              "\n",
              "\n",
              "<div id=\"df-a017c4f4-2e1b-4e5d-8aea-0f65057e43f7\">\n",
              "  <button class=\"colab-df-quickchart\" onclick=\"quickchart('df-a017c4f4-2e1b-4e5d-8aea-0f65057e43f7')\"\n",
              "            title=\"Suggest charts\"\n",
              "            style=\"display:none;\">\n",
              "\n",
              "<svg xmlns=\"http://www.w3.org/2000/svg\" height=\"24px\"viewBox=\"0 0 24 24\"\n",
              "     width=\"24px\">\n",
              "    <g>\n",
              "        <path d=\"M19 3H5c-1.1 0-2 .9-2 2v14c0 1.1.9 2 2 2h14c1.1 0 2-.9 2-2V5c0-1.1-.9-2-2-2zM9 17H7v-7h2v7zm4 0h-2V7h2v10zm4 0h-2v-4h2v4z\"/>\n",
              "    </g>\n",
              "</svg>\n",
              "  </button>\n",
              "\n",
              "<style>\n",
              "  .colab-df-quickchart {\n",
              "      --bg-color: #E8F0FE;\n",
              "      --fill-color: #1967D2;\n",
              "      --hover-bg-color: #E2EBFA;\n",
              "      --hover-fill-color: #174EA6;\n",
              "      --disabled-fill-color: #AAA;\n",
              "      --disabled-bg-color: #DDD;\n",
              "  }\n",
              "\n",
              "  [theme=dark] .colab-df-quickchart {\n",
              "      --bg-color: #3B4455;\n",
              "      --fill-color: #D2E3FC;\n",
              "      --hover-bg-color: #434B5C;\n",
              "      --hover-fill-color: #FFFFFF;\n",
              "      --disabled-bg-color: #3B4455;\n",
              "      --disabled-fill-color: #666;\n",
              "  }\n",
              "\n",
              "  .colab-df-quickchart {\n",
              "    background-color: var(--bg-color);\n",
              "    border: none;\n",
              "    border-radius: 50%;\n",
              "    cursor: pointer;\n",
              "    display: none;\n",
              "    fill: var(--fill-color);\n",
              "    height: 32px;\n",
              "    padding: 0;\n",
              "    width: 32px;\n",
              "  }\n",
              "\n",
              "  .colab-df-quickchart:hover {\n",
              "    background-color: var(--hover-bg-color);\n",
              "    box-shadow: 0 1px 2px rgba(60, 64, 67, 0.3), 0 1px 3px 1px rgba(60, 64, 67, 0.15);\n",
              "    fill: var(--button-hover-fill-color);\n",
              "  }\n",
              "\n",
              "  .colab-df-quickchart-complete:disabled,\n",
              "  .colab-df-quickchart-complete:disabled:hover {\n",
              "    background-color: var(--disabled-bg-color);\n",
              "    fill: var(--disabled-fill-color);\n",
              "    box-shadow: none;\n",
              "  }\n",
              "\n",
              "  .colab-df-spinner {\n",
              "    border: 2px solid var(--fill-color);\n",
              "    border-color: transparent;\n",
              "    border-bottom-color: var(--fill-color);\n",
              "    animation:\n",
              "      spin 1s steps(1) infinite;\n",
              "  }\n",
              "\n",
              "  @keyframes spin {\n",
              "    0% {\n",
              "      border-color: transparent;\n",
              "      border-bottom-color: var(--fill-color);\n",
              "      border-left-color: var(--fill-color);\n",
              "    }\n",
              "    20% {\n",
              "      border-color: transparent;\n",
              "      border-left-color: var(--fill-color);\n",
              "      border-top-color: var(--fill-color);\n",
              "    }\n",
              "    30% {\n",
              "      border-color: transparent;\n",
              "      border-left-color: var(--fill-color);\n",
              "      border-top-color: var(--fill-color);\n",
              "      border-right-color: var(--fill-color);\n",
              "    }\n",
              "    40% {\n",
              "      border-color: transparent;\n",
              "      border-right-color: var(--fill-color);\n",
              "      border-top-color: var(--fill-color);\n",
              "    }\n",
              "    60% {\n",
              "      border-color: transparent;\n",
              "      border-right-color: var(--fill-color);\n",
              "    }\n",
              "    80% {\n",
              "      border-color: transparent;\n",
              "      border-right-color: var(--fill-color);\n",
              "      border-bottom-color: var(--fill-color);\n",
              "    }\n",
              "    90% {\n",
              "      border-color: transparent;\n",
              "      border-bottom-color: var(--fill-color);\n",
              "    }\n",
              "  }\n",
              "</style>\n",
              "\n",
              "  <script>\n",
              "    async function quickchart(key) {\n",
              "      const quickchartButtonEl =\n",
              "        document.querySelector('#' + key + ' button');\n",
              "      quickchartButtonEl.disabled = true;  // To prevent multiple clicks.\n",
              "      quickchartButtonEl.classList.add('colab-df-spinner');\n",
              "      try {\n",
              "        const charts = await google.colab.kernel.invokeFunction(\n",
              "            'suggestCharts', [key], {});\n",
              "      } catch (error) {\n",
              "        console.error('Error during call to suggestCharts:', error);\n",
              "      }\n",
              "      quickchartButtonEl.classList.remove('colab-df-spinner');\n",
              "      quickchartButtonEl.classList.add('colab-df-quickchart-complete');\n",
              "    }\n",
              "    (() => {\n",
              "      let quickchartButtonEl =\n",
              "        document.querySelector('#df-a017c4f4-2e1b-4e5d-8aea-0f65057e43f7 button');\n",
              "      quickchartButtonEl.style.display =\n",
              "        google.colab.kernel.accessAllowed ? 'block' : 'none';\n",
              "    })();\n",
              "  </script>\n",
              "</div>\n",
              "\n",
              "    </div>\n",
              "  </div>\n"
            ],
            "application/vnd.google.colaboratory.intrinsic+json": {
              "type": "dataframe",
              "summary": "{\n  \"name\": \"highest_avg[['Fast-Food Chains', 'Average Sales per Unit (Thousands - U\",\n  \"rows\": 10,\n  \"fields\": [\n    {\n      \"column\": \"Fast-Food Chains\",\n      \"properties\": {\n        \"dtype\": \"string\",\n        \"num_unique_values\": 10,\n        \"samples\": [\n          \"Culver\\u2019s\",\n          \"Raising Cane\\u2019s\",\n          \"McDonald\\u2019s\"\n        ],\n        \"semantic_type\": \"\",\n        \"description\": \"\"\n      }\n    },\n    {\n      \"column\": \"Average Sales per Unit (Thousands - U.S Dollars)\",\n      \"properties\": {\n        \"dtype\": \"number\",\n        \"std\": 1009,\n        \"min\": 2700,\n        \"max\": 6100,\n        \"num_unique_values\": 10,\n        \"samples\": [\n          3099,\n          4893,\n          3420\n        ],\n        \"semantic_type\": \"\",\n        \"description\": \"\"\n      }\n    }\n  ]\n}"
            }
          },
          "metadata": {},
          "execution_count": 7
        }
      ]
    },
    {
      "cell_type": "markdown",
      "source": [
        "5. Using pandas retrieve the names of all fast food chains that have more franchised stores than company stores."
      ],
      "metadata": {
        "id": "lPnmlYdM5KI0"
      }
    },
    {
      "cell_type": "code",
      "source": [
        "# Get fast food chains that have more franchised than company stores\n",
        "fran_exceeds_com = df[df['Franchised Stores'] > df['Company Stores']]\n",
        "# List names of fast food chains that have more franchised than company stores\n",
        "fran_exceeds_com['Fast-Food Chains']"
      ],
      "metadata": {
        "id": "srz5zRZU5lx5",
        "colab": {
          "base_uri": "https://localhost:8080/"
        },
        "outputId": "6b4133b8-21e7-44d4-a74e-20aeb0ff4647"
      },
      "execution_count": 8,
      "outputs": [
        {
          "output_type": "execute_result",
          "data": {
            "text/plain": [
              "0                                     Arby’s\n",
              "1                             Baskin-Robbins\n",
              "2                                  Bojangles\n",
              "3                                Burger King\n",
              "4                                 Carl’s Jr.\n",
              "5                           Checkers/Rally’s\n",
              "6                                Chick-fil-A\n",
              "8                           Church’s Chicken\n",
              "9                                   Culver’s\n",
              "10                               Dairy Queen\n",
              "11                                  Del Taco\n",
              "12                                  Domino's\n",
              "13                                   Dunkin'\n",
              "14                             El Pollo Loco\n",
              "15                            Firehouse Subs\n",
              "16                                 Five Guys\n",
              "17    Freddy’s Frozen Custard & Steakburgers\n",
              "18                                  Hardee’s\n",
              "20                           Jack in the Box\n",
              "21                             Jersey Mike’s\n",
              "22                              Jimmy John’s\n",
              "23                                       KFC\n",
              "25                            Little Caesars\n",
              "26                             Marco’s Pizza\n",
              "27                          McAlister’s Deli\n",
              "28                                McDonald’s\n",
              "29                     Moe’s Southwest Grill\n",
              "31                              Panera Bread\n",
              "32                                Papa Johns\n",
              "33                             Papa Murphy’s\n",
              "34                                 Pizza Hut\n",
              "35                 Popeyes Louisiana Kitchen\n",
              "36                                     QDOBA\n",
              "39                            Sonic Drive-In\n",
              "41                                    Subway\n",
              "42                                 Taco Bell\n",
              "43                               Tim Hortons\n",
              "44                    Tropical Smoothie Cafe\n",
              "45                                   Wendy's\n",
              "48                                  Wingstop\n",
              "49                                   Zaxby’s\n",
              "Name: Fast-Food Chains, dtype: object"
            ]
          },
          "metadata": {},
          "execution_count": 8
        }
      ]
    },
    {
      "cell_type": "markdown",
      "source": [
        "6. Using pandas delete all records from the dataset where the total change in units from 2020 is negative."
      ],
      "metadata": {
        "id": "uiVkBslH5W7X"
      }
    },
    {
      "cell_type": "code",
      "source": [
        "# Get all rows with negative total change in units\n",
        "negative_change = df[df['Total Change in Units from 2020'] < 0]\n",
        "# Remove rows with negative total change in units based on index\n",
        "df = df.drop(negative_change.index)"
      ],
      "metadata": {
        "id": "c7RJkuhO5iq_"
      },
      "execution_count": 9,
      "outputs": []
    }
  ]
}